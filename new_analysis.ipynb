{
 "cells": [
  {
   "cell_type": "markdown",
   "metadata": {},
   "source": [
    "# New Data Analysis"
   ]
  },
  {
   "cell_type": "code",
   "execution_count": 1,
   "metadata": {
    "collapsed": true
   },
   "outputs": [],
   "source": [
    "dataDir='Data/'"
   ]
  },
  {
   "cell_type": "code",
   "execution_count": 2,
   "metadata": {
    "collapsed": true
   },
   "outputs": [],
   "source": [
    "import json\n",
    "import pandas as pd\n",
    "import re"
   ]
  },
  {
   "cell_type": "markdown",
   "metadata": {},
   "source": [
    "## Openning the data¶"
   ]
  },
  {
   "cell_type": "code",
   "execution_count": 3,
   "metadata": {
    "collapsed": true
   },
   "outputs": [],
   "source": [
    "#function that open the file and create a \"good\" dataset\n",
    "def createDataFrame(file):\n",
    "    ##lists of 50 data are loaded and then merged\n",
    "    #create list of dataframes and open file\n",
    "    dataframes=[]\n",
    "    file=open(dataDir+file, 'r')\n",
    "    \n",
    "    #counter is important for the index\n",
    "    c=0\n",
    "    while True:\n",
    "        #each line is 50 data (as limit=50 when downloading)\n",
    "        txt=file.readline()\n",
    "        #possibly stop\n",
    "        if txt=='':\n",
    "            break\n",
    "\n",
    "        #load the data with right index\n",
    "        j=json.loads(txt)\n",
    "        l=len(j)\n",
    "        dataframes.append(pd.DataFrame(j, index=list(range(c, c+l))))\n",
    "        \n",
    "        c+=l\n",
    "    #merge all datasets and return result\n",
    "    return pd.concat(dataframes)"
   ]
  },
  {
   "cell_type": "code",
   "execution_count": 4,
   "metadata": {
    "collapsed": true
   },
   "outputs": [],
   "source": [
    "dfEvent=createDataFrame('event.json')"
   ]
  },
  {
   "cell_type": "code",
   "execution_count": 5,
   "metadata": {
    "scrolled": true
   },
   "outputs": [
    {
     "data": {
      "text/plain": [
       "Index(['beneficiaries_id', 'canceled', 'checks_payable_to_address',\n",
       "       'contributions_info', 'distribution_paid_for_by', 'end_date',\n",
       "       'end_time', 'entertainment', 'hosts_id', 'id', 'is_presidential',\n",
       "       'make_checks_payable_to', 'more_details', 'notes', 'other_members',\n",
       "       'postponed', 'resource_uri', 'rsvp_info', 'start_date', 'start_time',\n",
       "       'venue_id'],\n",
       "      dtype='object')"
      ]
     },
     "execution_count": 5,
     "metadata": {},
     "output_type": "execute_result"
    }
   ],
   "source": [
    "dfEvent.columns"
   ]
  },
  {
   "cell_type": "code",
   "execution_count": 6,
   "metadata": {
    "collapsed": true
   },
   "outputs": [],
   "source": [
    "#dfEvent"
   ]
  },
  {
   "cell_type": "markdown",
   "metadata": {},
   "source": [
    "--\n",
    "### Number of events:"
   ]
  },
  {
   "cell_type": "code",
   "execution_count": 7,
   "metadata": {},
   "outputs": [
    {
     "data": {
      "text/plain": [
       "24108"
      ]
     },
     "execution_count": 7,
     "metadata": {},
     "output_type": "execute_result"
    }
   ],
   "source": [
    "#number of tracked events:\n",
    "len(dfEvent)"
   ]
  },
  {
   "cell_type": "markdown",
   "metadata": {},
   "source": [
    "--\n",
    "### Contributions for each event:"
   ]
  },
  {
   "cell_type": "code",
   "execution_count": 8,
   "metadata": {
    "collapsed": true,
    "scrolled": true
   },
   "outputs": [],
   "source": [
    "##quick look at what it looks like:\n",
    "#dfEvent['contributions_info']"
   ]
  },
  {
   "cell_type": "markdown",
   "metadata": {},
   "source": [
    "#### looking for host contribution:"
   ]
  },
  {
   "cell_type": "markdown",
   "metadata": {},
   "source": [
    "see https://regex101.com/r/pj3UC4/1 for more info on the reg expr"
   ]
  },
  {
   "cell_type": "code",
   "execution_count": 9,
   "metadata": {
    "collapsed": true
   },
   "outputs": [],
   "source": [
    "def getHostContrib(s):\n",
    "    reg=r'((h|H)ost[ Commitee\\:]+\\$?[,0-9]+|\\$?[,0-9]+[ per\\-PACto]+(h|H)ost( [^$]|;|\\n|$)|(h|H)ost - \\$[,0-9]+)'\n",
    "    reg_expr=re.compile(reg)\n",
    "    reg_expr2=re.compile(r\"(h|H)ost\")\n",
    "    \n",
    "    #determinating if there is a host contribution info:\n",
    "    hosts = re.finditer(reg_expr2, s)\n",
    "    h=False\n",
    "    for hostNum, host in enumerate(hosts):\n",
    "        h=True\n",
    "        \n",
    "    \n",
    "    matches = re.finditer(reg_expr, s)\n",
    "    c=0\n",
    "    l=[]\n",
    "    for matchNum, match in enumerate(matches):\n",
    "        l.append(match.group())\n",
    "        c+=1\n",
    "    #c is the number of hosts info caught\n",
    "\n",
    "    #if not found, but there is some host info\n",
    "    if c==0 and h:\n",
    "        print(s)\n",
    "        \n",
    "        \n",
    "        "
   ]
  },
  {
   "cell_type": "markdown",
   "metadata": {},
   "source": [
    "#### Type of contribution_info string that gives me toubles:"
   ]
  },
  {
   "cell_type": "code",
   "execution_count": 10,
   "metadata": {},
   "outputs": [
    {
     "name": "stdout",
     "output_type": "stream",
     "text": [
      "Co-Host - Raise: $5,000 / Co-Host - Give: $2,500 / Sponsor: $1,000 / Guest: $100\n",
      "$5,000 per person $100,000 per couple to Co-Host\n",
      "Host Levels: Platinum $1,000 Gold $500 Silver $250 Suggested $50\n",
      "Host Levels: Platinum $1,000 Gold $500 Silver $250 Suggested $50\n",
      "Host Levels: Platinum $1,000 Gold $500 Silver $250\n",
      "Hosts: Platinum $1,000 Gold $500 Silver $250 Bronze $100 Suggested 50\n",
      "Day One Marco Couple $10,800 (Event co-Host) Day One Marco Supporter $5,400 (Photo and Dinner) General Attendee $500 (Reception)\n",
      "$5,000 Individual Host | $2,500 Individual Sponsor | $1,000 Individual Guest \n",
      "$25,000 per person $100,000 per couple and spot on host committee\n",
      "Event Chairs $5400 Event Vice Chairs $2700 Platinum Hosts $1000 Gold Hosts $500 Silver Hosts $250 Guests $100 Per Person\n",
      "Event Chairs $5,400 Event Vice Chairs $2,700 Platinum Hosts $1,000 Gold Hosts $500 Silver Hosts $250 Guests $100 Per Person\n",
      "$2500 Event Chairs $1000 Event Vice Chairs $500 Platinum Hosts $250 Gold Hosts $100 Guests\n",
      "Hosts: $2500 $1000 $500 Attendees: $50 per person\n",
      "$5,000 Event Chairs $2,500 Event Vice Chairs $1,000 Platinum Hosts $500 Gold Hosts $250 Silver Hosts\n",
      "Host Levels of $5,400, $2,700, $1,000 and $500. Suggested min. contribution per person: $350\n",
      "Host Levels: Platinum: $1,000 | Gold: $500 | Silver: $250\n",
      "Photo op and Host committee: $25,000 Photo op and lunch: $10,00 Tickets start at $2,700\n",
      "Hosts $1,000 $500 $250 Attendees $50 \n",
      "Hosts: $1,000 $500 $250 Attendee $50\n",
      "Hosts: $5,400 $2,700 $1,000 $500 $250 Attendee: $100\n",
      "Host Levels: Platinum $1,000 Gold $500 Silver $250 Bronze $100 Suggested $30\n",
      "Host Levels: $5,400 $2,700 $1,000 $500 $250 Attendee $100\n",
      "Host Levels: Gold $2,000 Silver $1,000 Bronze $500 Suggested $50 \n",
      "Host Levels $6,000 Gold $3,000 Silver $1,000 Bronze $500 to attend\n",
      "Host Levels: Red Giant $1,000 Superstar $500 Star $250 $50 individual\n",
      "Host Levels: Platinum $1,000 Gold $500 Silver $250 Individual $40\n",
      "Governor's Roundtable $10,000 Keystone Photo Reception $5,000 Congressional Table Host Reception $2,500 Capitol Reception with Priority Seating $1,000 Capitol Reception $250\n",
      "Host Levels $5,400 $2,700 $1,000 $500 $250 General Reception $100\n",
      "Host Levels: Platinum $1,000 Gold $500 Silver $250\n",
      "Host Levels Platinum $1,000 Gold $500 Silver $250 Suggested $75 individual $125 couple \n",
      "Host Raise $5,000 or Contribute $2,700 Fighter $1,000 Advocate $500 Supporter $250\n",
      "Host levels: Red $500 White $250 Blue $100\n",
      "Hosts $5,000 Sponsor $2,500 Guest $1,000\n",
      "Host Levels: Platinum $500 Gold $250 Silver $100 Birthday $60\n",
      "$250 with those who raise $5,000 as co-hosts and invite to cast reception\n",
      "$40 suggested Host levels: Platinum $1,000 Gold $500 Silver $250 Bronze $100\n",
      "Host Levels: $5,400 $2,700 $1,000 $500 $250 $100\n",
      "$60 suggested Contributors over $150 will be recognized as a host\n",
      "$75 per couple Host Levels: Platinum $1,000 Gold $500 Silver $250 \n",
      "$50 individual Host Levels: Platinum $500 Gold $250\n",
      "Host +$500 Sponsor $250 Supporter $100 Guest $50\n",
      "Host Levels: $5,400 $2,700 $1,000 $500 $250\n",
      "Host levels: $5,400 $2,700 $1,000 $500 $250\n",
      "Event Chairs: $5,400/Platinum Hosts: $2,700/Gold Hosts: $1,000/Silver Hosts: $500/Bronze Hosts: $250 Guests: $100 per couple\n",
      "Host levels of $5,400 $2,700 $1,000 $500 $250\n",
      "$1,000 Friend $2,700 Champion Co-Host Raise $5,000\n",
      "Host Levels: $10,000 $5,000 $2,500 General Attendee: $350\n",
      "Host Levels: $2,500/$1,000 (PAC Accepted) Attendee: $250 per person\n",
      "Host Levels: $2500/$1000/$500 General AttendeE: $100\n",
      "Hosts: $1,000 per couple Sustainers: $500 per couple Supporters: $250 per couple Suggested contribution at the door: $90\n",
      "Host Committee Reception $10,000 VIP Reception $2,700 Reception $1,000\n",
      "Host Raise $15,000 Champion $2,700 Friend $1,000\n",
      "Host Levels: $2500/$1000/$500 General AttendeE: $100\n",
      "Host Levels: $2500/$1000/$500 General Attendee: $100\n",
      "$1,000 General Reception $3,000 General Reception and Host Dinner $6,000 Private Host Dinner Reception\n",
      "$30 per person $50 per couple Host: Red $500 White $250 Blue $100\n",
      "Host levels: $1,000 Gold $500 Silver $250 per person to attend\n",
      "Event Co-Host Raise $10,000 (includes photo w/Hillary) Event Host Raise $27,000 (includes photo and membership in Hillary for America Finance Committee) Chanpion $2,700\n",
      "Host Levels: $250, $500 or $1,000 General Attendee $100\n",
      "$27,000 raise needed to host; $10,800 raise for co-hosts.Contribute or raise $5,400 per couple in primary dollars includes a photo with Clinton. At the $27,000 tier, also get a reception with Clinton and membership on her finance committee.\n",
      "Co-Host Raise $27,000 includes reception and membership to Hillary for America Finance Committee Champion: $2,700\n",
      "Event Co-Chair: Raise $27,000 includes host reception and membership in Hillstarter program\n",
      "Co-Host Raise $10,000 (includes reception w/Hillary) Host Raise $27,000 (includes reception and membership in Hillary for America Finance Committee) Champion $2,700 Friend $1,000\n",
      "Co-Host Raise $10,000 (includes reception w/Hillary) Host Raise $27,000 (includes reception and membership in Hillary for America Finance Committee) Champion $2,700 Friend $1,000\n",
      "Co-Host Raise $13,500 (includes reception w/Hillary) Champion Contribute $2,700 (supporters previously donating $2,700 invited to attend by recruiting additional guest at Champion level) $1,000 Supporter $500 Friend\n",
      "Host Levels: $2500/$1000/$500 General AttendeE: $50\n",
      "$100 Suggested Host: Platinum $1,000 Gold $500 Silver $250 \n",
      "Host Individual $1,000 PAC $2,500 Guest Individual $500 PAC $1,000\n",
      "Host: Platinum $5,000 Gold $2,500 Silver $1,000 General Guest $25\n",
      "$1,000 Friend $2,700 Family Host Raise $27,000\n",
      "Host Levels: $1,000/$500/$250 General $100\n",
      "$1,000 Friend Co-Host Raise $10,000\n",
      "Guest $250 Supporter $500 Advocate $1,000 Event Host Raise $5,000\n",
      "Attendee: $100 Guest Contribute $250 or Raise $1,000 Co-Host: Contribute $500 or Raise $5,000 Host: Contribute $1,500 Raise $10,000\n",
      "Co-Chairs: $5,000 HostS: $2,700 Attendees: $500\n",
      "Happy Birthday (Host): $1000 To the Mayor (Mayor's Club) $400 Friend: $62\n",
      "$50 suggested Host Levels: Platinum: $500 Gold: $250 Silver: $100\n",
      "Host Levels: Gold $500 Silver: $250 Bronze: $100\n",
      "$250 for young professional $10,000 for host committee VIP and photo reception $2,700 per person general reception $1,000\n",
      "Host Levels: $2500 $1000 $500 General Attendee: $50 per person\n",
      "Hosts $5000 Sponsor $2500 Guest $1000\n",
      "$2,700 Chair (host photo and evening reception, 1 ticket for December 3rd Reception) $1000 Chair Give or Raise (host photo and evening reception) $1000 Supporter Give (evening reception)\n",
      "$5400 per couple $27,000 for host committee\n",
      "Host Levels: $2500 $1000 $500\n",
      "Suggested: $2000 per host/$500 per attendee\n",
      "$2700 per plate Hosts expected to raise minimum of $10,000 in bundled contributions \n",
      "$5000 Chair: Host and unch Reception $1000 Supporter: Lunch Reception\n",
      "$10,000 Host: Host and General Reception $1,000 Supporter: General Reception\n",
      "$5000 Chair, $2500 Co-Host, $1000 PAC\n",
      "$27,000 Co-Chair Host comittee Reception/Lunch Reception $10,800 Co-Host: Host Committee Reception/Lunch Reception $2700 #Allin4JEb Supporter: Lunch Reception $1000 Supporter: Lunch Reception\n",
      "Hosts: $5400 Platinum $2700 Gold $1000 Silver $500 Bronze Attendees: $100 per person\n",
      "$2700 (host reception and pre-tailgate reception) $1000 (pre-tailgate reception)\n",
      "Co-Host (Recognition at event and name on invitation) $250 Sponsor: $100 General: $40 Student: $20\n",
      "Host Levels: $2500 $1000 $500 General Attendee: $250 per person\n",
      "$100 Young Professionals $250 Friends $1000 Hosts\n",
      "Hosts: $5,000 Sponsor: $2,500 Guest: $1,000\n",
      "Suggested Contribution: $50 per individual Host for $250 or $500\n",
      "Host Levels: $2500 $1000 $500 $250 General Guests: $50\n",
      "Host Levels: Red $500, White $250, Blue $100\n",
      "Suggested Contributions: Gold Level Host-$1000, Silver Level Host-$500, Suggested Contribution-$50\n",
      "Host Levels: Gold-$500, Silver-$250\n",
      "$2,700 co-chair; $1000 co-host; $500 cosponsor; $250 guest\n",
      "Host: Give/raise $27,000, includes SCOUT Membership, Invitation Recognition, VIP Reception, Photo Op & General Reception; $5,400: VIP Reception, Photo Op & General Reception; $2,700: Photo Op & General Reception  \n",
      "Host -- $2,000; Friend -- $1,000\n",
      "Host levels: $2,700/$1000/$500\n",
      "Host levels: $1000/$500/$250 or $50 per person\n",
      "Co-Chair Raise: $25,000 / Co-Host Raise: $10,000 / Attendee: $1,000\n",
      "$2,700 host, $1000 leader, $250 friend, $100 supporter\n",
      "Co-Chair Raise: $27,000 / Co-Host Raise: $10,000 / Attendee: $1,000\n",
      "Co-Host Raise: $10,000 / #AllInForJeb Supporter Give: $2,700 / Supporter Give: $1,000\n",
      "Host Raise: $13,500 / Sponsor Give: $2,700 / Supporter Give: $1,000\n",
      "Co-Host Raise: $27,000 / Host Raise: $2,700 / Attendee: $1,000\n",
      "Co-Host Raise: $10,000 / #AllInForJeb Supporter: $2,700\n",
      "Co-Host Raise: $10,000 / #AllInForJeb Supporter: $2,700 / Supporter: $1,000\n",
      "Founding Member Mission: Next: $2,700 personal contribution and raise $1,000 / Co-Chair Contribute or Raise: $1,000 / Co-Host Contribute or Raise: $500 / #AllInForJeb Supporter: $100\n",
      "Co-Chair Raise: $27,000 / Co-Host Raise: $10,000 / #AllinForJeb Supporter: $2,700\n",
      "Co-Host Raise: $10,000 / Host Raise: $5,000 / Attendee: $1,000\n",
      "Dinner Sponsor: $12,000 / Host Reception: $5,000 / General Reception: $1,000\n",
      "Co-Chair Raise: $27,000 / Co-Host Raise: $10,000 / #AllInForJeb Supporter: $2,700 / Attendee: $1,000\n",
      "Host Committee Roundtable $2,700 Private Reception $1,000 General reception $250\n",
      "Co-Chair Raise: $27,000 / Co-Host Raise: $10,000 / #AllInForJeb Supporter: $2,700 / Attendee: $1,000\n",
      "Host Raise: $10,000 / Supporter per person: $1,000\n",
      "Co-Chair Contribute or Raise: $250 / Co-Host Contribute or Raise: $100 / Supporter: $50\n",
      "Co-Chair Contribute or Raise: $250 / Co-Host Contribute or Raise: $100 / Supporter: $50\n",
      "Event Host Raise: $50,000 / Event Co-Host Raise $27,000 / Attendee: $2,700\n",
      "Event Host Raise: $50,000 / Event Co-Host Raise $27,000 / Attendee: $2,700\n",
      "Co-Chair Raise: $27,000 / Co-Host Raise: $10,000 / Supporter: $2,700\n",
      "Host Committee raise: $10,800 / Photo Op Reception give or raise: $2,700 / Reception: $1,000\n",
      "Host (includes host reception with Hillary): $2,700 / Guest (per couple includes photo reception): $2,000 / Guest (per person includes photo reception): $1,500 / Guest (per couple): $1,500 / Guest (individual): $1,000\n",
      "Host (write/raise): $1,500 / Attendee: $500\n",
      "Co-Chair Raise: $27,000 / Co-Host Raise: $13,500 / Supporter: $2,700\n",
      "Event Host raise: $27,000 / Event Co-Host raise: $10,000 / Champion: $2,700 / Friend: $1,000\n",
      "Host per couple: $2,700 / Supporter per couple: $1,000\n",
      "Co-Chair Raise: $27,000 / Co-Host Raise: $10,000 / Supporter: $2,700\n",
      "Co-Chair raise: $27,000 / Co-Host raise: $10,000 / Supporter: $2,700\n",
      "Co-Chair Raise: $27,000 / Co-Host Raise: $13,500 / Supporter: $2,700\n",
      "Co-Chair Raise: $27,000 / Co-Host Raise: $13,500 / Supporter: $2,700\n",
      "Co-Chair Raise: $27,000 / Co-Host Raise: $13,500 / Supporter: $2,700\n",
      "$2,600/$5,200/$26,000 per couple to host\n",
      "Host = $2,500; Sponsor = $1,000\n",
      "Chair, $5,000; co-host, $2,500; individual $500\n",
      "Host, $2,500; PAC, $1,000; Individual, $500\n",
      "Individual: $1,000 PAC: $2,500 Hosts:$5,000\n",
      "$5000 Host, $2500 Sponsor $1500 Guest\n",
      "$5000 PAC Chair, $2500 PAC Host/Individual Host, $1000 PAC Supporter/Individual Guest\n",
      "$2500 PAC Host, $1000 PAC Guest, $1000 Individual Host, $500, $250 Individual Guest\n",
      "$5000 Host, $2500 Sponsor, $1000 Guest\n",
      "$5000 PAC Chair, $2500 PAC Host/Individual Host, $1000 PAC Supporter/Individual Guest\n",
      "$5000 PAC Host, $2500 PAC Sponsor, $1000 PAC Supporter, $250 Person Contribution $100 Young Professional\n",
      "$5000 Chair, $2500 Co-Host, $1000 PAC\n",
      "$5000 Sponsor, $2500 Host, $1500 PAC, $500 Individual\n",
      "(Host) PAC: $2500; Individual: $1000; (Guest) PAC: $1000; Individual: $500\n",
      "Individual: $1,000 PAC: $2,500 Hosts:$5,000\n",
      "PAC Chair: $5000; PAC Host/Individual: $2500; PAC Supporter/Individual: $1000\n",
      "Host: PAC $5,000/Individual $1,000 Sponsor: PAC $2,5000/Individual $500, Guest: PAC $1,000/Individual $250, Young professional: $75\n",
      "Individual: $1,000 PAC: $2,500 Hosts:$7,500\n",
      "Host, $2,500; sponsor, $1,000; friend, $500\n",
      "Co-hosts: $2,600; Friends, $1,000; Supporters, $500; Guests, $250\n",
      "$2,500 Co-Host, $1,000 PAC, $500 Individual\n",
      "$2,000 host, $1,000 attend\n",
      "$2,500 Co-host, $1,000 attend\n",
      "$10,000 VIP Brunch Chair; $5,000 VIP Brunch Guest; $1,000 Reception Host; $500 Reception Guest\n",
      "$5,000 (Chair, PAC); $2,500 (Chair, personal); $2,500 (Host, PAC); $1,000 (Host, Personal); $1,000 (Attend, PAC); $100 (Attend, Personal)\n",
      "$2,000 Event Co-host; $1,000 PAC; $500 Guest\n",
      "$2,500 PAC Host/ $1,000 Personal Host; $1,000 PAC Attendee; $250 Personal Attendee \n",
      "$10,000 Event Co-Chair; $2,500 Event Co-Host; $1,000 Sponsor; $500 General Admission\n",
      "$2,000 PAC Host/ $1,000 Personal Host; $1,000 PAC Attendee; $500 Personal Attendee \n",
      "$2,500 PAC Host/ $1,000 Personal Host; $1,000 PAC Attendee/ $500 Personal Attendee \n",
      "$2,500 PAC Host/ $1,000 Personal Host; $1,000 PAC Attendee/ $500 Personal Attendee \n",
      "$2,000 (contribute or raise) Host; $1,000 PAC; $250 Individual\n",
      "$3,500 PAC; $1,500 Individual to Host; $2,000 PAC; $1,000 Individual to Attend\n",
      "$2,500 Host, $1,000, $500, or $125 Attend\n",
      "PACs: $5000 Host, $2500 Sponsor, $1000 Patron/ Individuals: $2500 Host, $1000 Sponsor, $500 Patron\n",
      "$1,000 PAC; $250 Individual Host, $125 Sponsor\n",
      "Cost: $5,000 Event Host, $2,500 Event Sponsor, $1,000 Event Guest\n",
      "PACs: $5000 Host, $2500 Sponsor, $1000 Patron; Individuals: $2500 Host, $1000 Sponsor, $500 Attend\n",
      "$2,500 Event Co-host; $1,000 PAC; $500 Guest\n",
      "$5,000 Event Host; $2,500 Event Sponsor; $1,000 PAC; $500 Guest\n",
      "$5,000 Event Chair; $2,500 Reception Host; $500 General Reception Chair; $250 VIP Reception Guest; $250 General Reception Host; $100 General Reception Guest\n",
      "$1,000 PAC; $500 Individual Host; $250 Individual Guest\n",
      "Hosts: $2,500 PAC or $1,500 Personal (admit two); Sponsors: $2,000 PAC or $1,000 Individual; Reception Only: $1,000 PAC or $500 Personal\n",
      "Host: @2,500 PAC; Attend: $1,500 PAC/$500 Personal\n",
      "$2,500 Event Co-Host, $1,500 PAC attendee, $1,000 Guest\n",
      "$5,000 Event Host; $2,500 Event Sponsor; $1,000 Event Guest\n",
      "$2,000 PAC Host/ $1,000 Personal Host; $1,000 PAC Attendee; $500 Personal Attendee \n",
      "Hosts: $5,000 PAC/ $2,500 Individual or Attendees: $2,500 PAC/$1,000 Individual\n",
      "$5,000 Event Host; $2,500 Event Sponsor; $1,000 Event Guest\n",
      "$2,500 PAC Host/ $1,000 Personal Host; $1,000 PAC Attendee; $500 Personal Attendee \n",
      "$2,500 PAC Host/ $1,000 Personal Host; $1,000 PAC Attendee/ $500 Personal Attendee \n",
      "$5000 PAC Host, $2500 PAC Sponsor. $2500 Individual Host, $1000 Individual PAC, $1000 Individual Sponsor, $500 Amigo, $250 Supporter\n",
      "$5,000 Event Host; $2,500 Event Sponsor; $1,000 PAC; $500 Guest\n",
      "$1,000 PAC; $250 Individual Co-Host; $75 Attendee\n",
      "$2,500 PAC Host/ $1,000 Personal Host; $1,000 PAC Attendee; $500 Personal Attendee \n",
      "$5,000 Event Host; $2,500 Event Sponsor; $1,000 Event Guest; $500 Individual\n",
      "$1,000 PAC; $250 Ind. Co-host; $75 Attendee\n",
      "$1,000 PAC; $500 Individual Host; $250 Individual Guest\n",
      "Donations are welcome to support 2012 Convention Host Committee\n",
      "$2,500 co-host; $0\n",
      "$2,500 co-host; $1,000 individual\n",
      "$150,000 (raise) Host; $50,000 (raise or contribute) Individual\n",
      "$15,000 per couple Co-Chair; $8,000 per couple Host; $5,000 per couple Colorado Leadership Circle Membership (includes premium section for two guests); $1,500 Premium SEction; $500 General Admission; $200 Gen44 Young Professionals\n",
      "$10,000 raise or $2,500 contribute Host; $5,000 Chair; $1,000 Breakfast \n",
      "$75,000 Co-Chair; $50,000 Gold Host; $25,000 Silver Host; $10,000 Photo Opportunity; $1,250 Individual\n",
      "$5,000 (write/raise) Hosts; $2,500 PAC; $1,000 Individual\n",
      "$2,500 (write or raise) Co-Chair; $1,000 (write or raise) Co-Host; $500 Sponsor; $250 Supporter, $100 Friend; $50 Guest\n",
      "$50,000 (give or raise) Host; $10,000 Photo Reception; $2,500 Preferred Seating; $1,000 Individual \n",
      "$25,000 (raise or contribute) Host; $5,000 Attend\n",
      "$1,000 Scooper-Duper Host Committee Sponsor; $250 Scooper-Duper Host Committee Co-Host; $100 Leahy Fan; $50 Supporter\n",
      "$5,000 Champion and Event Co-Chair; $2,500 Leadership Circle and Event Host; $1,000 Sponsor; $500 Contributor; $100 Gen44 Young Professionals\n",
      "$500 (written or raise) Host; $50 Guest\n",
      "$5,000 (give or raise) Co-chair; $1,000 (give or raise) Host; $250 VIP Photo Reception; $100 General Reception\n",
      "$2,500 (raise or contribute) Host; $1,000 PAC Attendee; $500 Individual Attendee\n",
      "$2,500 (give or raise) Co-Host; $1,000 (give or raise) Attendee\n",
      "$5,000 (give or raise) Co-Host; $1,000 Attend\n",
      "$50,000 Dinner; $25,000 (raise) Host Committee Reception; $10,000 couple or $5,000 individual VIP Photo Reception; $2,000 couple or $1,000 individual General Reception\n",
      "$5,000 (give or raise) Co-Host; $2,000 PAC; $1,000 Individual\n",
      "$25,000 (give or raise): 2 tickets to host committee and photo reception, 1 photo op & 4 tickets to cocktail reception | $10,000: 2 tickets to photo reception, 1 photo op & 2 tickets to cocktail reception | $2,500 Individual cocktail reception tickets\n",
      "$250,000 (raised) Chair; $50,000 (raised) Co-Chair; $50,000 Founding Member; $25,000 (raised) Co-Host; $10,000 VIP Photo Reception; $2,500 General Reception\n",
      "$20,000 (raise) Host Committee | $5,000 couple; $2,500 individual VIP Reception | $100 General Reception\n",
      "$35,800 (give/raise) Co-Chair; $10,000 (give/raise) Host Committee; $5,000 Photo Reception (couple); $1,000 General Reception\n",
      "$1,000 Event Host (VIP reception); $250 Guest; $100 Gen44 Guests Young Professionals\n",
      "$20,000 Event Co-Host; $5,000 Reserved Seating; $2,500 General Admission\n",
      "$50,000 (write or raise) Chair; $30,000 (write or raise) Sponsor; $15,000 (write or raise) Host; $5,000 (write or raise) Friend; $2,500 (write or raise) Guest\n",
      "$35,800 co-chair (private co-chair reception, photo and general reception); $15,000 co-host (photo and 1 reception ticket); $5,000 Guest\n",
      "$500 Pot of Gold Host; $250 Shamrock Sponsor; $125 Friend of St. Paddy's \n",
      "Host Committee Reception: Raise $10,000 | VIP Reception/Photo OP: $2,500 per person | General Reception: $1,000 per person\n",
      "$44 Gen44, $250 VIP, $1,000 Host, $2,500 photo reception\n",
      "$10,000 (raise) Host; $1,000 Attend\n",
      "$2,000 PAC; $1,000 Individual to Host; $1,000 PAC; $500 Individual to attend\n",
      "$25,000 (raise) Co-Chair; $10,000 (raise) Host; $5,000 per couple Dinner & VIP Photo Opportunity; $1,000 Dinner\n",
      "$1000 Co-Chair; $500 host, $250 Sponsor; $100 General Reception\n",
      "$1,000 Sponsor: Up to two people to participate in all activities | $500 Host: One person to participate in all activities | $100 Heisman Trophy Reception Ticket\n",
      "Co-Chair (table of 10): Raise 10,000 | Host (5 seats): Raise $5,000\n",
      "$2,000 (raise or contribute) Host; $1,000 Participant\n",
      "$5,000 PAC Hostl $2,500 PAC Sponsor; $1,000 PAC Guest; $250 Individual\n",
      "$2,000 PAC co-host; $1,000 PAC/individual; $500 individual\n",
      "$2,000 PAC co-host; $1,000 PAC/individual host; $500 individual\n",
      "$2,000 PAC co-host; $1,000 PAC/individual; $500 individual\n",
      "Host: Write/Raise $2,000 | Friend: $1,000\n",
      "PACs: $2,500 to co-host; $1,000 attend\n",
      "$2,000 PAC; $1,000 Individual to Host; $1,000 PAC; $500 Individual to Attend\n",
      "$2,000 PAC; $1,000 Individual to Host; $1,000 PAC; $250 Individual to Attend\n",
      "$1,000 Sponsor; $500 co-host; $100 individual\n",
      "$2,500 PAC; $1,000 Individual to Host; $1,000 PAC;$500 Individual to Attend \n",
      "$2,000 PAC; $1,000 Individual to host | $1,000 PAC; $500 Individual to attend\n",
      "$2,000 to host, $1,000 PAC to attend; $500 Individual to attend \n",
      "$5,000 PAC; $2,500 Individual to sponsor | $2,500 PAC; $1,000 Individual to host | $1,500 PAC; $500 Individual to participate\n",
      "$5,000 PAC; $1,000 Individual to Host; $2,500 PAC; $500 Individual to Sponsor; $1,000 PAC; $250 Individual to Support; $75 for Young Professionals\n",
      "$2,500 PAC/ $1,000 Individual to Host; $1,500 PAC; $500 Individual to Attend \n",
      "$2,500 PAC; $1,000 Individual to Host; $1,000 PAC; $500 Individual to Attend\n",
      "$2,500 PAC; $1,000 Individual to Co-Host; $1,000 PAC; $500 Individual to Attend\n",
      "$2,000 PAC; $1,000 Individual to Co-Host; $1,000 PAC; $500 Individual\n",
      "$2,000 PAC; $1,000 Individual to Co-Host; $1,000 PAC; $500 Individual to Attend\n",
      "$2,000 PAC; $1,000 Individual to Host; $1,000 PAC; $500 Individual to Attend\n",
      "$2,000 PAC; $1,000 Individual to Co-Host; $1,000 PAC; $500 Individual\n",
      "$2,000 PAC; $1,000 Individual to Host; $1,000 PAC; $500 Individual\n",
      "$2,000 PAC; $1,000 Individual to Host; $1,000 PAC; $500 Individual to Attend\n",
      "$2,000 PAC; $1,000 Individual to Co-Host; $1,000 PAC; $500 Individual to Attend\n",
      "$2,000 PAC; $1,000 Individual Host; $1,000 PAC; $500 Individual to Attend\n",
      "$5,000 Sponsors; $2,500 Hosts, $1,000 PAC; $250 Individual\n",
      "$25,000 (raise) Host; $2,500 (raise or contribute) VIP Photo Reception; $500 General Admission\n",
      "$2,500 PAC; $1,000 Individual to Co-Host; $1,000 PAC; $500 Individual\n",
      "$2,500 PAC; $1,000 Individual to Host; $1,000 PAC; 100 Individual to Attend\n",
      "$2,500 PAC or Individual to Host; $1,000 PAC or Individual as a Guest\n",
      "$2,000 PAC; $1,000 Individual to Host (Dinner and Reception); $1,000 PAC; $500 Individual (Reception only)\n",
      "$2,500 Host, $1,000 PAC; $500 Individual\n",
      "$5,000 Sponsor; $2,500 PAC; $1,000 Individual to Host; $500 Individual\n",
      "$5,000 PAC; Individual Host; $2,500 PAC; Individual Sponsor; $1,500 PAC; Individual Guest\n",
      "$2,500 Individual Host; $1,000, $500, $250 Individual tickets\n",
      "$2,500 PAC; $1,000 Individual to Host; $1,000 PAC; $500 Individual to Attend\n",
      "$2,000 PAC; $1,000 Individual to Host; $1,000 PAC; $500 Individual to Attend\n",
      "$15,000 PAC/ $5,000 Individual (4 tickets) to Host; $10,000 PAC; $2,500 Individual (2 tickets) Patron; $5,000 PAC; $1,000 Individual (1 ticket)   \n",
      "$25,000 Event Chair; $10,000 Event Host; $1,000 individual; $500 per couple\n",
      "$2,500 PAC; $1,000 Individual Co-Host | $1,000 PAC; $500 Individual\n",
      "$2,500 PAC; $1,000 Individual to Co-Host | $1,500 PAC; $500 Individual\n",
      "$2,000 PAC; $1,000 Individual to Host; $1,000 PAC; $500 Individual\n",
      "$2,500 PAC; $1,000 Individual to Host; $1,000 PAC; $500 Individual to Attend\n",
      "$2,000 PAC; $500 Individual to Host; $1,000 PAC; $250 Individual to Attend\n",
      "$5,000 Chair, $2,500 Co-Host, $1,000 PAC, $500 Individul\n",
      "$2,000 PAC; $500 Individual to Co-Host; $1,000 PAC; $500 Individual\n",
      "$1,000 PAC; $500 Individual to Co-Host | $2,000 PAC; $1,000 Individual\n",
      "$2,000 PAC; $1,000 Individual to Host; $1,000 PAC; $500 Individual to Attend\n",
      "$5,000 PAC and Individual Co-Host; $2,500 PAC and Individual Sponsor; $1,500 Friend; $1,000 Individual\n",
      "$2,500 PAC; $1,000 Individual to Host; $1,000 PAC; $500 Individual for Guest\n",
      "$5,000 PAC/ $2,500 Individual to Co-Host; $1,000 PAC or $500 Individual\n",
      "$2,500 PAC or $1,000 Personal to Host; $1,000 PAC or $500 Personal to Attend\n",
      "$2,500 PAC; $1,000 Individual to Host; $1,000 PAC; $500 Individual to Attend\n",
      "$1,000 PAC; $500 Individual to Attend; $2,500 PAC; Individual to Host\n",
      "$2,500 PAC; $1,000 Individual to Co-Host; $1,000 PAC; $500 Individual\n",
      "$5,000 PAC; $1,000 Individual to Host; $2,500 PAC; $500 Individual to Co-Host; $1,000 PAC; $250 Individual to Support\n",
      "$2,000 PAC; $1,000 Individual to Host; $1,000 PAC; $500 Individual to Attend\n",
      "$2,000 PAC; $1,000 Individual to Co-Host; $1,000 PAC; $500 Individual to Attend\n",
      "$2,500 PAC; $1,000 Individual to Host; $1,000 PAC; $500 Individual\n",
      "$2,000 PAC; $1,000 Individual to Host; $1,000 PAC; $500 Individual\n",
      "$2,000 PAC; $1,000 Individual to Host; $1,000 PAC; $500 Individual to Attend\n",
      "$5,000 PAC; $2,500 Individual to Co-Host; $2,500 PAC; $1,500 Individual\n",
      "$2,000 PAC; $1,000 Individual to Co-Host; $1,000 PAC; $500 Individuals to Attend\n",
      "$2,000 PAC/$1,000 Individual to Co-Host; $1,000 PAC; $500 Individual\n",
      "$2,000 PAC or $1,000 Individual to Co-Host; $1,000 PAC to Attend\n",
      "$5,000 couple; $2,500 individual Host Committee Reception | $2,000 couple; $1,000 individual Leadership Reception | $1,000 couple; $500 individual General Reception\n",
      "$2,500 PAC/ $500 Individual to Host; $1,000 PAC/ $250 Individual to Attend\n",
      "$2,500 PAC; $1,000 Individual to Host; $1,000 PAC; $250 Guest\n",
      "$2,500 PAC; $1,000 Individual to Co-Host, $1,000 PAC; $500 Individuals\n",
      "$1,500 VIP with Host Reception; $1,000 Table Reservation; $150 Premium Seating; $75 General Seating\n",
      "$2,500 PAC; $1,000 Individual to Host; $1,000 PAC; $500 Individual to Attend\n",
      "$2,000 PAC; $1,000 Individual to Host; $1,000 PAC; $500 Individual to Attend\n",
      "$2500 PAC; $1000 Individual Host; $500 Individual Attendee\n",
      "$25,000 (commit or raise) Co-Chair; $10,000 (commit or raise) Host; $2,500 Individual with Photo-Op; $1,000 Individual; $100 Young Professional\n",
      "$5,000 PAC/$2,500 Individual to Host; $2,000 PAC/$1,000 Individual to Sponsor; $1,000 PAC/$500 Individual Guest\n",
      "$5,000 Vampires, $2,500 Zombies, $1,000 Ghosts\n",
      "$5,000 Chair; $2,500 Host, $1,000 Sponsor; $500 Friend\n",
      "$5,000 Vampires; $2,500 Zombies; $1,000 Ghosts\n",
      "$2,000 PAC; $1,000 Individual to Host; $1,000 PAC; $500 Individual to Attend\n",
      "$2,500 PAC Host' $1,000 PAC Guest; $1,000 Individual Host; $250 Individual Guest\n",
      "$1,000 Host, $100 Individual\n",
      "$1,000 PAC (2 tickets) to Host; $500 PACs\n",
      "$2,500 PAC; $1,000 Individual to Host; $1,000 PAC; $500 Individual Guest \n",
      "$2,500 PAC or Individual to Host; $1,000 PAC of Individual as a Guest\n",
      "$1,000 PAC; $250 Individual to Co Host; $500 PAC; $100 Individual to Attend\n",
      "$2,000 PAC; $1,000 Individual to Host; $1,000 PAC; $500 Individual to Attend\n",
      "$5,000 Host, $2,500 Sponsor; $1,000 PAC, $500 individual\n",
      "$2,500 PAC; $1000 Individual to Co-Host; $1,000 PAC; $500 Individual to Attend\n",
      "Reception & Dinner: $2,500 PAC/ $500 Personal to Attend - $5,000 PAC/ $1,000 Personal to Host; Reception Only: $1,000 PAC/ $250 Personal to Attend - $2,500 PAC/ $500 Personal to Host\n",
      "$2,000 per couple, $1,000 Individual for Host Committee Reception; $1,000 per couple; $500 Individual for General Reception\n",
      "$2,500 Birthday Host; $1,500 PAC; $250 Individual\n",
      "$5,000 Host, $2,500 Sponsor, $1,000 PAC, $500 Individual\n",
      "$2,500 PAC Host' $1,000 PAC Contribution; $500 Individual\n",
      "$5,000 Host, $2,500 Sponsor, $1,000 PAC, $500 Individual\n",
      "$5,000; $2,500 $1,000 for Host Committee; $250 General Attendance\n",
      "$25,000 Even Co-Chairman; $10,00 Table Host; $2,500 Individual with Photo Op; $1,000 Individual\n",
      "$2500 PAC; $1000 Individual Co-Host; $500 Personal Attendee\n",
      "$5,000 Host, $2,500 Sponsor; $1,000 PAC; $500 Individual\n",
      "$5000 chair, $2500 host, $1000 PAC\n",
      "Host, Sponsor, Friend\n",
      "$1000 PAC; $250 Individual Host; $125 Sponsor\n",
      "$5,000 PAC/Personal Host; $1,000 PAC/Personal Attendee\n",
      "$5000 Weekend Host (includes 2 golfers Saturday); $2500 PAC Attendee; $2500 Personal Attendee\n",
      "$5,000 Host, $2,500 Sponsor; $1,000 PAC, $500 individual\n",
      "$5,000 (raise) Luncheon Co-Host;  $2,500 Individual Luncheon Co-Host; $1,000 Couple; $500 Individual\n",
      "$2000 PAC Chair; $1000 Personal Chair; $1000 PAC; $250 Personal Host; $100 Personal Attendee\n",
      "$5,000 Host, $2,500 PAC; $1,000 individual\n",
      "$5,000 Host, $2,500 Sponsor; $1,000 PAC, $500 individual\n",
      "PAC Host$2500, PAC $1000, Individual $500\n",
      "$5000 chair, $2500 host, $1000 guest\n",
      "Host: Give or raise $5,000; Guest: $1,500 PAC or $1,000 Personal\n",
      "$5,000 PAC Grand Cru Host; $2,500 PAC Reserve Host; $1,000 PAC Attendee; $500 Individual Attendee\n",
      "$5,000 Event Host; $2,500 Event Sponsor; $1,000 Guest\n",
      "$5,000 Event Host; $2,500 Event Sponsor; $1,000 Guest\n",
      "$50,000 (raise) or $35,800 (contribute) per couple (includes chair & photo reception); $25,000 raise or $10,000 contribute per couple (includes host photo reception); $1,000 per person\n",
      "$50,000 raise or $35,800 contribute per couple Co-Chair (chair & photo reception); $35,800 Chair (chair & photo reception); $25,000 raise or $10,000 contribute per couple (host photo reception); $1,000 per person\n",
      "$5,000 Event Host; $2,500 Event Sponsor; $1,000 Guest\n",
      "$5,000 Event Host; $2,500 Event Sponsor; $1,000 Guest\n",
      "$5,000 Event Co-Chair; $2,500 Event Co-Host; $1,500 PAC Attendee; $500 Individual Guest\n",
      "$5,000 Event Host; $2,500 Event Sponsor; $1,000 Guest\n",
      "$5,000 Event Host; $2,500 Event Sponsor; $1,000 Guest\n",
      "$10,000 Co-Host, $5,000 Supporter; $1,000 Donor\n",
      "$5,000 Event Host; $2,500 Event Sponsor; $1,000 Guest\n",
      "$1,000 PAC; $500 Personal Host; $250 Personal Attend\n",
      "$5,000 Event Host; $2,500 Event Sponsor; $1,000 Guest\n",
      "$1,000 PAC; $1,000 Individual Host; $500 Individual Guest\n",
      "$5,000 Event Host; $2,500 Event Sponsor; $1,000 Guest\n",
      "$2,000 PAC; $1,000 Individual Co-Host; $1,000 PAC Attend\n",
      "$2,500 Event Chairman; $1,000 Event Host; $500 Event Patron\n",
      "$2,500 Chair; $1,500 Host, $500 Friend\n",
      "$2,500 Hosts; $1,000 Attendees\n",
      "$2,500 PAC/Host; $1,000 Individual Supporter \n",
      "$10,000 Co-Host, $5,000 Supporter; $1,000 Donor\n",
      "$5,000 PAC Individual Host; $2,500 PAC or Individual per Person\n",
      "Suggested Host Committee Contribution $500\n",
      "$2,000 PAC/ Individual Host; $1,000 PAC/ Individual\n",
      "$2,500 PAC/Individual Host; $1,000 PAC/ Individual \n",
      "$2,500 PAC/ Individual Co-Host; $1,000 PAC/Individual Supporter; $500 Individual\n",
      "$5,000 PAC Steering Committee; $2,500 PAC Event Host; $1,500 Individual Event Host; $1,000 PAC; $500 Individual\n",
      "$2,500 PAC/ Individual Host; $1,000 PAC/ Individual\n",
      "$2,500 PAC Host, $1,000 PAC, $500 Individual\n",
      "$2,500 PAC/ Individual Host; $1,000 PAC/ Individual\n",
      "$5,000 PAC; Host; $2,400 Individual Host; $2,500 PAC Co-Host/ Individual Co-Host\n",
      "$5,000 PAC/ Individual Host; $2,500 PAC/ Individual Sponsor; $1,000 PAC/ Individual\n",
      "$2,400 Gold Host; $1,000 Silver Host; $500 Bronze Host; $250 Friend; $100 Individual\n",
      "$10,000 (raise or donate) Chair; $5,000 (raise or donate) Co-Chair; $1,000 (raise or donate) Host; $100 Individual\n",
      "$2,500 PAC Host/ Individual; $1,000 PAC; $500 Individual\n",
      "$10,000 per couple (contribute or raise) Chair; $2,500 per couple (contribute or raise) Host; $250 per couple Ticket\n",
      "$5,000 PAC Four Star Host; $2,400 Two people per person Four Star Host; $2,500 PAC Three Star Host; $2,400 Individual Three Star Host; $1,000 Two Star Host; $500 One Star Host \n",
      "$1,000 PAC; $250 Individual Host; $125 Sponsor\n",
      "$5,000 PAC/ Host; $1,000 Supporter; $500 Individual\n",
      "$5,000 PAC Gold Host; $2,400 Individual Gold Host; $2,500 PAC Silver Host; $1,500 Individual Silver Host; $1,500 PAC; $1,000 Individual\n",
      "$1,000 PAC ; $250 Individual Host; $100 Individual\n",
      "$2,500 PAC Co-Host, $1,000 PAC Guest; $500 Individual\n",
      "$2,000 Sponsor; $1,000 Host' $500 Patron; $250 Friend\n",
      "$5000 Grand Hosts; $4000 Hosts; $2000 PACs; $1000 Individual\n",
      "$2,500 Movers & Shakers Host; $1,000 Texas Ranger; $250 Silver Spur\n",
      "$5000 PAC or Individual Host; $2500 PAC or Individual Sponsor; $1500 PAC or Individual Guest\n",
      "$5,000 PAc Host; $2,500 PAC Sponsor; $1,000 PAC Supporter; $500 Individual\n",
      "$10,000 VIP Co-Host; $2,500 Table (write/raise, seats 10); $250 Individual Ticket; $100 Staff ticket\n",
      "$2,500 cohost (2 tickets), $1,500 individual (1 ticket)\n",
      "$5,000 chair, $2,500 host, $1,000 guest\n",
      "$5,000 PAC host, $2,500 PAC sponsor, $1,000 PAC guest, @,400 individual host, $1000 sponsor, $500 guest\n",
      "$5,000 host, $2,500 PAC co-host, $1,000 PAC $500 individual\n",
      "$2,500 PAC HOST; $1,000 PAC Guest; $1,000 Individual Host; $500 Individual Guest\n",
      "$5,000 Host, $2,500 Supporter, $1,000 PAC; $500 Individual\n",
      "$1,000 PAC/host, $500 supporter, $250 friens\n",
      "$2,500 Co-Host, $1,000 PAC, $500 Individual\n",
      "$5,000 PAC; $4,800 Individual Host; $2,500 PAC Sponsor; $2,400 Individual Sponsor\n",
      "$2,000 PAC Host, $1,000 Individual Host; $1,000 PAC; $500 Individual\n",
      "$5,000 host, $2,500sponsor, $1,500 attendee\n",
      "$5,000 Chair, $2,500 Host, $,1000 PAC; $500 Guest\n",
      "$5,000 chair, $2,500 host, $1,000 guest, $250\n",
      "$1000 PAC, $500 individual Host; $2000 PAC, $1000 individual\n",
      "$2,500 Host, $1,000 PAC; $500 Individual\n",
      "$5,000 host, $2,500 supporter, $1,000 friend\n",
      "$5,000 chair, $2,500 host, $1,000 PAC, $250 individual friend\n",
      "$5,000 Host, $2,500 PAC; $1,000 Individual\n",
      "$5,000 chair, $2,500 host, $1,000 PAC\n",
      "$5,000 chair, $2,500 host, $1,000 sponsor, $500 supporter\n",
      "$2,500 Host, $1,000 PAC\n",
      "$5,000 host, $2,500 supporter, $1,000 PAC, $500 individual\n",
      "$1,000 Host/PAC; $500 Sponsor; $250 Friend\n",
      "$10,000 PAC; $5,000 PAC Event Chair; $4,800 Maximum Individual; $2,500 PAC Event Co-Chair; $2,400 Individual Event Chair; $1,000 Individual Event Co-Chair; $1,000 PAC Event Host; $500 Individual Event Host\n"
     ]
    },
    {
     "ename": "TypeError",
     "evalue": "expected string or bytes-like object",
     "output_type": "error",
     "traceback": [
      "\u001b[1;31m---------------------------------------------------------------------------\u001b[0m",
      "\u001b[1;31mTypeError\u001b[0m                                 Traceback (most recent call last)",
      "\u001b[1;32m<ipython-input-10-85587729b108>\u001b[0m in \u001b[0;36m<module>\u001b[1;34m()\u001b[0m\n\u001b[1;32m----> 1\u001b[1;33m \u001b[0mdfEvent\u001b[0m\u001b[1;33m[\u001b[0m\u001b[1;34m'contributions_info'\u001b[0m\u001b[1;33m]\u001b[0m\u001b[1;33m.\u001b[0m\u001b[0mapply\u001b[0m\u001b[1;33m(\u001b[0m\u001b[0mgetHostContrib\u001b[0m\u001b[1;33m)\u001b[0m\u001b[1;33m\u001b[0m\u001b[0m\n\u001b[0m",
      "\u001b[1;32mC:\\__APP__\\WinPython\\WinPython-64bit-3.5.3.1Qt5\\python-3.5.3.amd64\\lib\\site-packages\\pandas\\core\\series.py\u001b[0m in \u001b[0;36mapply\u001b[1;34m(self, func, convert_dtype, args, **kwds)\u001b[0m\n\u001b[0;32m   2292\u001b[0m             \u001b[1;32melse\u001b[0m\u001b[1;33m:\u001b[0m\u001b[1;33m\u001b[0m\u001b[0m\n\u001b[0;32m   2293\u001b[0m                 \u001b[0mvalues\u001b[0m \u001b[1;33m=\u001b[0m \u001b[0mself\u001b[0m\u001b[1;33m.\u001b[0m\u001b[0masobject\u001b[0m\u001b[1;33m\u001b[0m\u001b[0m\n\u001b[1;32m-> 2294\u001b[1;33m                 \u001b[0mmapped\u001b[0m \u001b[1;33m=\u001b[0m \u001b[0mlib\u001b[0m\u001b[1;33m.\u001b[0m\u001b[0mmap_infer\u001b[0m\u001b[1;33m(\u001b[0m\u001b[0mvalues\u001b[0m\u001b[1;33m,\u001b[0m \u001b[0mf\u001b[0m\u001b[1;33m,\u001b[0m \u001b[0mconvert\u001b[0m\u001b[1;33m=\u001b[0m\u001b[0mconvert_dtype\u001b[0m\u001b[1;33m)\u001b[0m\u001b[1;33m\u001b[0m\u001b[0m\n\u001b[0m\u001b[0;32m   2295\u001b[0m \u001b[1;33m\u001b[0m\u001b[0m\n\u001b[0;32m   2296\u001b[0m         \u001b[1;32mif\u001b[0m \u001b[0mlen\u001b[0m\u001b[1;33m(\u001b[0m\u001b[0mmapped\u001b[0m\u001b[1;33m)\u001b[0m \u001b[1;32mand\u001b[0m \u001b[0misinstance\u001b[0m\u001b[1;33m(\u001b[0m\u001b[0mmapped\u001b[0m\u001b[1;33m[\u001b[0m\u001b[1;36m0\u001b[0m\u001b[1;33m]\u001b[0m\u001b[1;33m,\u001b[0m \u001b[0mSeries\u001b[0m\u001b[1;33m)\u001b[0m\u001b[1;33m:\u001b[0m\u001b[1;33m\u001b[0m\u001b[0m\n",
      "\u001b[1;32mpandas\\src\\inference.pyx\u001b[0m in \u001b[0;36mpandas.lib.map_infer (pandas\\lib.c:66124)\u001b[1;34m()\u001b[0m\n",
      "\u001b[1;32m<ipython-input-9-7fcf4b928dd7>\u001b[0m in \u001b[0;36mgetHostContrib\u001b[1;34m(s)\u001b[0m\n\u001b[0;32m      5\u001b[0m \u001b[1;33m\u001b[0m\u001b[0m\n\u001b[0;32m      6\u001b[0m     \u001b[1;31m#determinating if there is a host contribution info:\u001b[0m\u001b[1;33m\u001b[0m\u001b[1;33m\u001b[0m\u001b[0m\n\u001b[1;32m----> 7\u001b[1;33m     \u001b[0mhosts\u001b[0m \u001b[1;33m=\u001b[0m \u001b[0mre\u001b[0m\u001b[1;33m.\u001b[0m\u001b[0mfinditer\u001b[0m\u001b[1;33m(\u001b[0m\u001b[0mreg_expr2\u001b[0m\u001b[1;33m,\u001b[0m \u001b[0ms\u001b[0m\u001b[1;33m)\u001b[0m\u001b[1;33m\u001b[0m\u001b[0m\n\u001b[0m\u001b[0;32m      8\u001b[0m     \u001b[0mh\u001b[0m\u001b[1;33m=\u001b[0m\u001b[1;32mFalse\u001b[0m\u001b[1;33m\u001b[0m\u001b[0m\n\u001b[0;32m      9\u001b[0m     \u001b[1;32mfor\u001b[0m \u001b[0mhostNum\u001b[0m\u001b[1;33m,\u001b[0m \u001b[0mhost\u001b[0m \u001b[1;32min\u001b[0m \u001b[0menumerate\u001b[0m\u001b[1;33m(\u001b[0m\u001b[0mhosts\u001b[0m\u001b[1;33m)\u001b[0m\u001b[1;33m:\u001b[0m\u001b[1;33m\u001b[0m\u001b[0m\n",
      "\u001b[1;32mC:\\__APP__\\WinPython\\WinPython-64bit-3.5.3.1Qt5\\python-3.5.3.amd64\\lib\\re.py\u001b[0m in \u001b[0;36mfinditer\u001b[1;34m(pattern, string, flags)\u001b[0m\n\u001b[0;32m    218\u001b[0m \u001b[1;33m\u001b[0m\u001b[0m\n\u001b[0;32m    219\u001b[0m     Empty matches are included in the result.\"\"\"\n\u001b[1;32m--> 220\u001b[1;33m     \u001b[1;32mreturn\u001b[0m \u001b[0m_compile\u001b[0m\u001b[1;33m(\u001b[0m\u001b[0mpattern\u001b[0m\u001b[1;33m,\u001b[0m \u001b[0mflags\u001b[0m\u001b[1;33m)\u001b[0m\u001b[1;33m.\u001b[0m\u001b[0mfinditer\u001b[0m\u001b[1;33m(\u001b[0m\u001b[0mstring\u001b[0m\u001b[1;33m)\u001b[0m\u001b[1;33m\u001b[0m\u001b[0m\n\u001b[0m\u001b[0;32m    221\u001b[0m \u001b[1;33m\u001b[0m\u001b[0m\n\u001b[0;32m    222\u001b[0m \u001b[1;32mdef\u001b[0m \u001b[0mcompile\u001b[0m\u001b[1;33m(\u001b[0m\u001b[0mpattern\u001b[0m\u001b[1;33m,\u001b[0m \u001b[0mflags\u001b[0m\u001b[1;33m=\u001b[0m\u001b[1;36m0\u001b[0m\u001b[1;33m)\u001b[0m\u001b[1;33m:\u001b[0m\u001b[1;33m\u001b[0m\u001b[0m\n",
      "\u001b[1;31mTypeError\u001b[0m: expected string or bytes-like object"
     ]
    }
   ],
   "source": [
    "dfEvent['contributions_info'].apply(getHostContrib)"
   ]
  },
  {
   "cell_type": "code",
   "execution_count": 11,
   "metadata": {},
   "outputs": [
    {
     "name": "stdout",
     "output_type": "stream",
     "text": [
      "there are 418 problems over 24108 cases, ie: 1.7338642774182844 % of errors\n"
     ]
    }
   ],
   "source": [
    "f=open('pbs', 'r')\n",
    "l=f.readlines()\n",
    "f.close()\n",
    "pbs=len(l)\n",
    "del l\n",
    "print('there are', pbs, 'problems over', len(dfEvent), 'cases, ie:', 100*pbs/len(dfEvent), '% of errors')"
   ]
  },
  {
   "cell_type": "markdown",
   "metadata": {
    "collapsed": true
   },
   "source": [
    "I think that this is acceptable, isn't it?"
   ]
  },
  {
   "cell_type": "code",
   "execution_count": null,
   "metadata": {
    "collapsed": true
   },
   "outputs": [],
   "source": []
  },
  {
   "cell_type": "code",
   "execution_count": null,
   "metadata": {
    "collapsed": true
   },
   "outputs": [],
   "source": []
  },
  {
   "cell_type": "code",
   "execution_count": null,
   "metadata": {
    "collapsed": true
   },
   "outputs": [],
   "source": []
  },
  {
   "cell_type": "markdown",
   "metadata": {},
   "source": []
  },
  {
   "cell_type": "markdown",
   "metadata": {},
   "source": []
  },
  {
   "cell_type": "markdown",
   "metadata": {},
   "source": []
  },
  {
   "cell_type": "markdown",
   "metadata": {
    "collapsed": true
   },
   "source": [
    "# Open secret data"
   ]
  },
  {
   "cell_type": "code",
   "execution_count": 12,
   "metadata": {},
   "outputs": [
    {
     "data": {
      "text/plain": [
       "Index(['cid', 'indivs', 'org_name', 'pacs', 'total', 'year'], dtype='object')"
      ]
     },
     "execution_count": 12,
     "metadata": {},
     "output_type": "execute_result"
    }
   ],
   "source": [
    "dfContrib=createDataFrame(\"candContrib.json\")\n",
    "dfContrib.columns"
   ]
  },
  {
   "cell_type": "code",
   "execution_count": null,
   "metadata": {
    "collapsed": true
   },
   "outputs": [],
   "source": []
  },
  {
   "cell_type": "code",
   "execution_count": null,
   "metadata": {
    "collapsed": true
   },
   "outputs": [],
   "source": []
  },
  {
   "cell_type": "code",
   "execution_count": null,
   "metadata": {
    "collapsed": true
   },
   "outputs": [],
   "source": []
  },
  {
   "cell_type": "code",
   "execution_count": null,
   "metadata": {
    "collapsed": true
   },
   "outputs": [],
   "source": []
  },
  {
   "cell_type": "code",
   "execution_count": null,
   "metadata": {
    "collapsed": true
   },
   "outputs": [],
   "source": []
  },
  {
   "cell_type": "code",
   "execution_count": null,
   "metadata": {
    "collapsed": true
   },
   "outputs": [],
   "source": []
  },
  {
   "cell_type": "code",
   "execution_count": null,
   "metadata": {
    "collapsed": true
   },
   "outputs": [],
   "source": []
  }
 ],
 "metadata": {
  "kernelspec": {
   "display_name": "Python 3",
   "language": "python",
   "name": "python3"
  },
  "language_info": {
   "codemirror_mode": {
    "name": "ipython",
    "version": 3
   },
   "file_extension": ".py",
   "mimetype": "text/x-python",
   "name": "python",
   "nbconvert_exporter": "python",
   "pygments_lexer": "ipython3",
   "version": "3.5.3"
  }
 },
 "nbformat": 4,
 "nbformat_minor": 2
}
