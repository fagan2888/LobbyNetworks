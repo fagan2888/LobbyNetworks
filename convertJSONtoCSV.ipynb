{
 "cells": [
  {
   "cell_type": "code",
   "execution_count": 2,
   "metadata": {
    "collapsed": true
   },
   "outputs": [],
   "source": [
    "## Headers\n",
    "import json\n",
    "import pandas as pd\n",
    "\n",
    "dataDir='Data/'"
   ]
  },
  {
   "cell_type": "code",
   "execution_count": 3,
   "metadata": {
    "collapsed": true
   },
   "outputs": [],
   "source": [
    "#Paul's function to open json file and construct a pandas dataframe\n",
    "def createDataFrame(file):\n",
    "    ##lists of 50 data are loaded and then merged\n",
    "    #create list of dataframes and open file\n",
    "    dataframes=[]\n",
    "    file=open(dataDir+file, 'r')\n",
    "    \n",
    "    #counter is important for the index\n",
    "    c=0\n",
    "    while True:\n",
    "        #each line is 50 data (as limit=50 when downloading)\n",
    "        txt=file.readline()\n",
    "        #possibly stop\n",
    "        if txt=='':\n",
    "            break\n",
    "\n",
    "        #load the data with right index\n",
    "        j=json.loads(txt)\n",
    "        l=len(j)\n",
    "        dataframes.append(pd.DataFrame(j, index=list(range(c, c+l))))\n",
    "        \n",
    "        c+=l\n",
    "    #merge all datasets and return result\n",
    "    return pd.concat(dataframes)\n"
   ]
  },
  {
   "cell_type": "code",
   "execution_count": 9,
   "metadata": {
    "collapsed": true
   },
   "outputs": [],
   "source": [
    "# Function to take in json file, create a dataframe from it and save to csv\n",
    "def convertJSONtoCSV(file):\n",
    "    df = createDataFrame(file)\n",
    "    filename = file.split(\".\")[0]\n",
    "    csv_filename = dataDir + filename + \".csv\"\n",
    "    print(csv_filename)\n",
    "    df.to_csv(csv_filename, encoding='utf-8')"
   ]
  },
  {
   "cell_type": "code",
   "execution_count": 6,
   "metadata": {},
   "outputs": [
    {
     "data": {
      "text/plain": [
       "'events2'"
      ]
     },
     "execution_count": 6,
     "metadata": {},
     "output_type": "execute_result"
    }
   ],
   "source": [
    "convertJSONtoCSV('events2.json')"
   ]
  },
  {
   "cell_type": "code",
   "execution_count": null,
   "metadata": {
    "collapsed": true
   },
   "outputs": [],
   "source": []
  }
 ],
 "metadata": {
  "kernelspec": {
   "display_name": "Python 2",
   "language": "python",
   "name": "python2"
  },
  "language_info": {
   "codemirror_mode": {
    "name": "ipython",
    "version": 2
   },
   "file_extension": ".py",
   "mimetype": "text/x-python",
   "name": "python",
   "nbconvert_exporter": "python",
   "pygments_lexer": "ipython2",
   "version": "2.7.13"
  }
 },
 "nbformat": 4,
 "nbformat_minor": 2
}
